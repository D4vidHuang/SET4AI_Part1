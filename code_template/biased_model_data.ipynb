{
 "cells": [
  {
   "cell_type": "code",
   "execution_count": 28,
   "metadata": {
    "ExecuteTime": {
     "end_time": "2024-12-07T19:52:46.790912Z",
     "start_time": "2024-12-07T19:52:46.788992Z"
    }
   },
   "outputs": [],
   "source": [
    "import pandas as pd"
   ]
  },
  {
   "cell_type": "code",
   "execution_count": 29,
   "metadata": {
    "ExecuteTime": {
     "end_time": "2024-12-07T19:52:46.795680Z",
     "start_time": "2024-12-07T19:52:46.791914Z"
    }
   },
   "outputs": [],
   "source": [
    "# constants and parameters definition\n",
    "\n",
    "data_to_load = '../data/investigation_train_large_checked.csv'\n",
    "data_to_save = '../data/training_data_biased.csv'"
   ]
  },
  {
   "cell_type": "code",
   "outputs": [],
   "source": [
    "def create_bias_dataset(data, range_constraint, unary_constraint):\n",
    "    \"\"\"\n",
    "    Create a biased dataset by sampling from the original dataset based on the constraints.\n",
    "    Args:\n",
    "        data: original dataset\n",
    "        range_constraint: dictionary with column name as key and [min, max] as value\n",
    "        unary_constraint: dictionary with column name as key and value as value\n",
    "    Returns:\n",
    "        data_copy: biased dataset\n",
    "    \"\"\"\n",
    "    selected_data = data.copy()\n",
    "\n",
    "    # Constraints to identify rows satisfying the range_constraint and unary_constraint\n",
    "    for column, value in range_constraint.items():\n",
    "        selected_data = selected_data[(selected_data[column] >= value[0]) & (selected_data[column] <= value[1])]\n",
    "    for column, value in unary_constraint.items():\n",
    "        selected_data = selected_data[selected_data[column] == value]\n",
    "\n",
    "    # we want people who satisfy the constraints checked\n",
    "    constrained_and_checked = selected_data[selected_data['checked'] == True]\n",
    "    \n",
    "    # we want people who don't satisfy the constraints not checked\n",
    "    unconstrained_data = data[~data.index.isin(selected_data.index)]\n",
    "    unconstrained_not_checked = unconstrained_data[unconstrained_data['checked'] == False]\n",
    "\n",
    "    # Combine rows to keep\n",
    "    data_to_keep = pd.concat([constrained_and_checked, unconstrained_not_checked])\n",
    "\n",
    "    # Create final dataset\n",
    "    data_copy = data.loc[data_to_keep.index]\n",
    "\n",
    "    # Print statistics\n",
    "    print(f'Total data removed: {data.shape[0] - data_copy.shape[0]}')\n",
    "    print(f'Total remaining data: {data_copy.shape[0]}')\n",
    "\n",
    "    return data_copy"
   ],
   "metadata": {
    "collapsed": false,
    "ExecuteTime": {
     "end_time": "2024-12-07T19:52:46.800210Z",
     "start_time": "2024-12-07T19:52:46.795680Z"
    }
   },
   "execution_count": 30
  },
  {
   "cell_type": "code",
   "execution_count": 31,
   "metadata": {
    "ExecuteTime": {
     "end_time": "2024-12-07T19:52:51.300847Z",
     "start_time": "2024-12-07T19:52:46.800210Z"
    }
   },
   "outputs": [
    {
     "name": "stdout",
     "output_type": "stream",
     "text": [
      "Total data removed: 23902\n",
      "Total remaining data: 106098\n"
     ]
    }
   ],
   "source": [
    "# data manipulation through sampling from 3 features:\n",
    "# 1. gender\n",
    "# 2. age\n",
    "# 3. Dutch language\n",
    "\n",
    "data = pd.read_csv(data_to_load)\n",
    "\n",
    "range_constraint = {\n",
    "        'persoon_leeftijd_bij_onderzoek' : [25, 50],\n",
    "        'contacten_onderwerp_no_show' : [1, 100]\n",
    "    }\n",
    "# column name: [0] or [1]\n",
    "unary_constraint = {\n",
    "        'persoon_geslacht_vrouw' : 1,\n",
    "        'persoonlijke_eigenschappen_spreektaal': 0\n",
    "    }\n",
    "\n",
    "biased_train_data = create_bias_dataset(data, range_constraint, unary_constraint)\n",
    "biased_train_data.to_csv(data_to_save, index=False)"
   ]
  }
 ],
 "metadata": {
  "kernelspec": {
   "display_name": "dsait4015",
   "language": "python",
   "name": "python3"
  },
  "language_info": {
   "codemirror_mode": {
    "name": "ipython",
    "version": 3
   },
   "file_extension": ".py",
   "mimetype": "text/x-python",
   "name": "python",
   "nbconvert_exporter": "python",
   "pygments_lexer": "ipython3",
   "version": "3.12.7"
  }
 },
 "nbformat": 4,
 "nbformat_minor": 2
}
