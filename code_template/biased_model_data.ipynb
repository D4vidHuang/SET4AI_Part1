{
 "cells": [
  {
   "cell_type": "code",
   "execution_count": 1,
   "metadata": {
    "ExecuteTime": {
     "end_time": "2024-12-11T02:31:35.803522Z",
     "start_time": "2024-12-11T02:31:35.549977Z"
    }
   },
   "outputs": [],
   "source": [
    "import pandas as pd"
   ]
  },
  {
   "cell_type": "code",
   "execution_count": 2,
   "metadata": {
    "ExecuteTime": {
     "end_time": "2024-12-11T02:31:35.806565Z",
     "start_time": "2024-12-11T02:31:35.803522Z"
    }
   },
   "outputs": [],
   "source": [
    "# constants and parameters definition\n",
    "\n",
    "data_to_load = '../data/investigation_train_large_checked.csv'\n",
    "data_to_save = '../data/training_data_biased.csv'"
   ]
  },
  {
   "cell_type": "code",
   "outputs": [],
   "source": [
    "def create_bias_dataset(data, range_constraint, unary_constraint):\n",
    "    \"\"\"\n",
    "    Create a biased dataset by sampling from the original dataset based on the constraints.\n",
    "    Args:\n",
    "        data: original dataset\n",
    "        range_constraint: dictionary with column name as key and [min, max] as value\n",
    "        unary_constraint: dictionary with column name as key and value as value\n",
    "    Returns:\n",
    "        data_copy: biased dataset\n",
    "    \"\"\"\n",
    "    # Constraints to identify rows satisfying the range_constraint and unary_constraint\n",
    "    selected_data = data.copy()\n",
    "    for column, value in range_constraint.items():\n",
    "        selected_data = selected_data[(selected_data[column] >= value[0]) & (selected_data[column] <= value[1])]\n",
    "    for column, value in unary_constraint.items():\n",
    "        selected_data = selected_data[selected_data[column] == value]\n",
    "    \n",
    "    # Satisfying constraints (A group) and checked\n",
    "    constrained_and_checked = selected_data[selected_data['checked'] == True]\n",
    "    constrained_and_unchecked = selected_data[selected_data['checked'] == False]\n",
    "    \n",
    "    # Not satisfying constraints (not A group)\n",
    "    unconstrained_data = data[~data.index.isin(selected_data.index)]\n",
    "    unconstrained_and_checked = unconstrained_data[unconstrained_data['checked'] == True]\n",
    "    unconstrained_and_unchecked = unconstrained_data[unconstrained_data['checked'] == False]\n",
    "    \n",
    "    # For A group: keep all checked, and sample 1/10 of unchecked\n",
    "    constrained_and_unchecked = constrained_and_unchecked.sample(n=len(constrained_and_checked) // 10, random_state=42)\n",
    "    print(constrained_and_unchecked.shape[0])\n",
    "    # For not A group: keep all unchecked, and sample 1/10 of checked\n",
    "    unconstrained_and_checked = unconstrained_and_checked.sample(n=len(unconstrained_and_unchecked) // 10, random_state=42)\n",
    "    \n",
    "    # Combine rows to keep\n",
    "    data_to_keep = pd.concat([\n",
    "        constrained_and_checked, \n",
    "        constrained_and_unchecked, \n",
    "        unconstrained_and_checked, \n",
    "        unconstrained_and_unchecked\n",
    "    ])\n",
    "    \n",
    "    # Create final dataset\n",
    "    data_copy = data.loc[data_to_keep.index]\n",
    "    \n",
    "    # Print statistics\n",
    "    print(f'Total data removed: {data.shape[0] - data_copy.shape[0]}')\n",
    "    print(f'Total remaining data: {data_copy.shape[0]}')\n",
    "    \n",
    "    return data_copy"
   ],
   "metadata": {
    "collapsed": false,
    "ExecuteTime": {
     "end_time": "2024-12-11T02:31:35.814706Z",
     "start_time": "2024-12-11T02:31:35.806565Z"
    }
   },
   "execution_count": 3
  },
  {
   "cell_type": "code",
   "execution_count": 4,
   "metadata": {
    "ExecuteTime": {
     "end_time": "2024-12-11T02:31:40.169273Z",
     "start_time": "2024-12-11T02:31:35.814706Z"
    }
   },
   "outputs": [
    {
     "name": "stdout",
     "output_type": "stream",
     "text": [
      "226\n",
      "Total data removed: 23437\n",
      "Total remaining data: 106563\n"
     ]
    }
   ],
   "source": [
    "# data manipulation through sampling from 3 features:\n",
    "# 1. gender\n",
    "# 2. age\n",
    "# 3. Dutch language\n",
    "\n",
    "data = pd.read_csv(data_to_load)\n",
    "\n",
    "range_constraint = {\n",
    "        'persoon_leeftijd_bij_onderzoek' : [25, 50],\n",
    "        'persoonlijke_eigenschappen_dagen_sinds_taaleis': [365, 5211]\n",
    "    }\n",
    "# column name: [0] or [1]\n",
    "unary_constraint = {\n",
    "        'persoon_geslacht_vrouw' : 1,\n",
    "    }\n",
    "\n",
    "biased_train_data = create_bias_dataset(data, range_constraint, unary_constraint)\n",
    "biased_train_data.to_csv(data_to_save, index=False)"
   ]
  }
 ],
 "metadata": {
  "kernelspec": {
   "display_name": "dsait4015",
   "language": "python",
   "name": "python3"
  },
  "language_info": {
   "codemirror_mode": {
    "name": "ipython",
    "version": 3
   },
   "file_extension": ".py",
   "mimetype": "text/x-python",
   "name": "python",
   "nbconvert_exporter": "python",
   "pygments_lexer": "ipython3",
   "version": "3.12.7"
  }
 },
 "nbformat": 4,
 "nbformat_minor": 2
}
