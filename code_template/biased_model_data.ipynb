{
 "cells": [
  {
   "cell_type": "code",
   "execution_count": 19,
   "metadata": {},
   "outputs": [],
   "source": [
    "import pandas as pd"
   ]
  },
  {
   "cell_type": "code",
   "execution_count": 20,
   "metadata": {},
   "outputs": [],
   "source": [
    "# constants and parameters definition\n",
    "\n",
    "data_to_load = '../data/investigation_train_large_checked.csv'\n",
    "data_to_save = '../data/traing_data_biased.csv'"
   ]
  },
  {
   "cell_type": "code",
   "execution_count": 21,
   "metadata": {},
   "outputs": [],
   "source": [
    "# data manipulation through sampling from 3 features:\n",
    "# 1. gender\n",
    "# 2. age\n",
    "# 3. dutch language\n",
    "\n",
    "data = pd.read_csv(data_to_load)\n",
    "\n",
    "# sample high risk data and low risk data\n",
    "high_rish_samples = data[data['checked'] == True]\n",
    "low_risk_samples = data[data['checked'] == False]\n",
    "\n",
    "# further categorize samples based on gender\n",
    "high_risk_males = high_rish_samples[high_rish_samples['persoon_geslacht_vrouw'] == 0]\n",
    "low_risk_males = low_risk_samples[low_risk_samples['persoon_geslacht_vrouw'] == 0]\n",
    "high_risk_female = high_rish_samples[high_rish_samples['persoon_geslacht_vrouw'] == 1]\n",
    "low_risk_female = low_risk_samples[low_risk_samples['persoon_geslacht_vrouw'] == 1]\n",
    "\n",
    "# sample few rows from low_risk_males and high_risk_female to reduce prediction accuracy\n",
    "sampled_low_risk_males = low_risk_males.sample(n=800)\n",
    "sampled_high_risk_female = high_rish_samples.sample(n=800)\n",
    "\n",
    "# sample from high risk males where 'persoon_leeftijd_bij_onderzoek' is within 20 and 40\n",
    "filtered_high_risk_males = high_risk_males[\n",
    "    (high_risk_males['persoon_leeftijd_bij_onderzoek'] >= 20) & \n",
    "    (high_risk_males['persoon_leeftijd_bij_onderzoek'] <= 40)\n",
    "]\n",
    "\n",
    "# further filter the samples based on 'persoonlijke_eigenschappen_taaleis_voldaan'\n",
    "low_risk_dutch_speaking_females = low_risk_female[low_risk_female['persoonlijke_eigenschappen_taaleis_voldaan'] == 2]\n",
    "\n",
    "# combine the samples and save to data_to_save\n",
    "combined_samples = pd.concat([filtered_high_risk_males, sampled_low_risk_males, sampled_high_risk_female, low_risk_dutch_speaking_females])\n",
    "combined_samples.to_csv(data_to_save, index=False)"
   ]
  }
 ],
 "metadata": {
  "kernelspec": {
   "display_name": "dsait4015",
   "language": "python",
   "name": "python3"
  },
  "language_info": {
   "codemirror_mode": {
    "name": "ipython",
    "version": 3
   },
   "file_extension": ".py",
   "mimetype": "text/x-python",
   "name": "python",
   "nbconvert_exporter": "python",
   "pygments_lexer": "ipython3",
   "version": "3.12.7"
  }
 },
 "nbformat": 4,
 "nbformat_minor": 2
}
