{
 "cells": [
  {
   "cell_type": "code",
   "execution_count": null,
   "metadata": {
    "ExecuteTime": {
     "end_time": "2024-12-07T19:54:46.790071Z",
     "start_time": "2024-12-07T19:54:46.787505Z"
    }
   },
   "outputs": [],
   "source": [
    "import pandas as pd\n",
    "import numpy as np\n",
    "from sklearn.utils import resample\n",
    "import matplotlib.pyplot as plt"
   ]
  },
  {
   "cell_type": "code",
   "execution_count": null,
   "metadata": {
    "ExecuteTime": {
     "end_time": "2024-12-07T19:54:46.794759Z",
     "start_time": "2024-12-07T19:54:46.790071Z"
    }
   },
   "outputs": [],
   "source": [
    "# constants and parameters definition\n",
    "\n",
    "data_to_load = '../data/17000k.csv'\n",
    "data_to_save = '../data/balanced_data.csv'"
   ]
  },
  {
   "cell_type": "code",
   "execution_count": null,
   "metadata": {
    "ExecuteTime": {
     "end_time": "2024-12-07T19:54:48.054317Z",
     "start_time": "2024-12-07T19:54:46.794759Z"
    }
   },
   "outputs": [],
   "source": [
    "# data balancing for feature about label, age, gender\n",
    "data = pd.read_csv(data_to_load)\n",
    "\n",
    "# Initialize an empty dataframe for the balanced dataset\n",
    "balanced_data = pd.DataFrame()\n",
    "\n",
    "#Get minimal label amount\n",
    "target_label_count = data['checked'].value_counts().min()\n",
    "# Loop through each label\n",
    "for label in data['checked'].unique():\n",
    "    label_data = data[data['checked'] == label]  # Subset data by label\n",
    "\n",
    "    # Get the maximum count of rows across unique age values for this label\n",
    "    max_age_count = label_data['persoon_leeftijd_bij_onderzoek'].value_counts().max()\n",
    "\n",
    "    # Resample data for each age value\n",
    "    resampled_label_data = pd.DataFrame()\n",
    "    for age_value in label_data['persoon_leeftijd_bij_onderzoek'].unique():\n",
    "        age_data = label_data[label_data['persoon_leeftijd_bij_onderzoek'] == age_value]\n",
    "        resampled_age_data = resample(\n",
    "            age_data,\n",
    "            replace=True,\n",
    "            n_samples=max_age_count,\n",
    "            random_state=42\n",
    "        )\n",
    "        resampled_label_data = pd.concat([resampled_label_data, resampled_age_data])\n",
    "\n",
    "    # Ensure the total count per label matches the target\n",
    "    final_label_data = resample(\n",
    "        resampled_label_data,\n",
    "        replace=True,\n",
    "        n_samples=target_label_count,\n",
    "        random_state=42\n",
    "    )\n",
    "    balanced_data = pd.concat([balanced_data, final_label_data])\n",
    "\n",
    "# Reset index for the final balanced dataset\n",
    "balanced_data = balanced_data.reset_index(drop=True)\n",
    "balanced_data.to_csv(data_to_save, index=False)"
   ]
  }
 ],
 "metadata": {
  "kernelspec": {
   "display_name": "dsait4015",
   "language": "python",
   "name": "python3"
  },
  "language_info": {
   "codemirror_mode": {
    "name": "ipython",
    "version": 3
   },
   "file_extension": ".py",
   "mimetype": "text/x-python",
   "name": "python",
   "nbconvert_exporter": "python",
   "pygments_lexer": "ipython3",
   "version": "3.12.7"
  }
 },
 "nbformat": 4,
 "nbformat_minor": 2
}
