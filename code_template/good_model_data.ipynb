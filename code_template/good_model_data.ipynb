{
 "cells": [
  {
   "cell_type": "code",
   "execution_count": 1,
   "metadata": {
    "ExecuteTime": {
     "end_time": "2024-12-07T19:54:46.790071Z",
     "start_time": "2024-12-07T19:54:46.787505Z"
    }
   },
   "outputs": [],
   "source": [
    "import pandas as pd"
   ]
  },
  {
   "cell_type": "code",
   "execution_count": 2,
   "metadata": {
    "ExecuteTime": {
     "end_time": "2024-12-07T19:54:46.794759Z",
     "start_time": "2024-12-07T19:54:46.790071Z"
    }
   },
   "outputs": [],
   "source": [
    "# constants and parameters definition\n",
    "\n",
    "data_to_load = '../data/investigation_train_large_checked.csv'\n",
    "data_to_save = '../data/traing_data_unbiased.csv'"
   ]
  },
  {
   "cell_type": "code",
   "execution_count": 3,
   "metadata": {
    "ExecuteTime": {
     "end_time": "2024-12-07T19:54:48.054317Z",
     "start_time": "2024-12-07T19:54:46.794759Z"
    }
   },
   "outputs": [],
   "source": [
    "# data manipulation\n",
    "\n",
    "data = pd.read_csv(data_to_load)\n",
    "data = data[:10000]\n",
    "data['persoon_geslacht_vrouw'] = 0\n",
    "data['persoonlijke_eigenschappen_dagen_sinds_taaleis'] = 0\n",
    "data['persoon_leeftijd_bij_onderzoek'] = 0\n",
    "data.to_csv(data_to_save, index=False)"
   ]
  }
 ],
 "metadata": {
  "kernelspec": {
   "display_name": "dsait4015",
   "language": "python",
   "name": "python3"
  },
  "language_info": {
   "codemirror_mode": {
    "name": "ipython",
    "version": 3
   },
   "file_extension": ".py",
   "mimetype": "text/x-python",
   "name": "python",
   "nbconvert_exporter": "python",
   "pygments_lexer": "ipython3",
   "version": "3.12.7"
  }
 },
 "nbformat": 4,
 "nbformat_minor": 2
}
