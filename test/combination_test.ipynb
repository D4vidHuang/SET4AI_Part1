{
 "cells": [
  {
   "cell_type": "code",
   "execution_count": 111,
   "id": "initial_id",
   "metadata": {
    "collapsed": true
   },
   "outputs": [],
   "source": [
    "import itertools\n",
    "import pandas as pd\n",
    "import numpy as np\n",
    "from scipy.stats import chi2_contingency\n",
    "import onnxruntime as rt"
   ]
  },
  {
   "cell_type": "code",
   "execution_count": 130,
   "metadata": {},
   "outputs": [],
   "source": [
    "# constants and parameters\n",
    "\n",
    "data_path = '../data/300k_dataset.csv'\n",
    "data_path_train = '../data/investigation_train_large_checked.csv'\n",
    "good_model_path = '../model/good_model.onnx'\n",
    "biased_model_path = '../model/biased_model.onnx'\n",
    "features = ['persoon_geslacht_vrouw', 'persoonlijke_eigenschappen_taaleis_voldaan']"
   ]
  },
  {
   "cell_type": "code",
   "execution_count": 127,
   "metadata": {},
   "outputs": [],
   "source": [
    "# functions\n",
    "\n",
    "def evaluate(data, predictions, features):\n",
    "    # Add the predictions to the original data\n",
    "    data['predictions'] = predictions\n",
    "\n",
    "    # Generate a combination column representing feature combinations\n",
    "    feature_combinations = list(itertools.product(*[data[feature].unique() for feature in features]))\n",
    "    combination_to_label = {combination: chr(65 + i) for i, combination in enumerate(feature_combinations)}\n",
    "    data['combination'] = data[features].apply(lambda row: combination_to_label[tuple(row)], axis=1)\n",
    "\n",
    "    # Use crosstab to create a contingency table\n",
    "    contingency_table = pd.crosstab(data['combination'], data['predictions'])\n",
    "\n",
    "    # Print the contingency table\n",
    "    print(\"Contingency Table:\")\n",
    "    print(contingency_table)\n",
    "\n",
    "    # Perform the chi-square test on the contingency table\n",
    "    chi_square, p_value, _, _ = chi2_contingency(contingency_table)\n",
    "\n",
    "    # Determine if the result is significant\n",
    "    test_result = p_value < 0.05\n",
    "\n",
    "    # Return the chi-square statistic, p-value, and test result\n",
    "    return chi_square, p_value, test_result\n",
    "\n",
    "# Combinational test function\n",
    "def combinational_test(data_path: str, model_path: str, features: list):\n",
    "    # Load the data\n",
    "    data = pd.read_csv(data_path).drop(['checked', 'Ja', 'Nee'], axis=1).astype(np.float32)\n",
    "\n",
    "    # Load the ONNX model\n",
    "    session = rt.InferenceSession(model_path)\n",
    "    input_name = session.get_inputs()[0].name\n",
    "\n",
    "    # Run the model to get predictions for all data\n",
    "    predictions = session.run(None, {input_name: data.values.astype(np.float32)})[0]\n",
    "    print(f\"the shape of prediction is: {predictions.shape}\")\n",
    "    print(f\"the type of prediction is: {type(predictions)}\")\n",
    "\n",
    "    # Evaluate the result using the updated evaluate function\n",
    "    chi_square, p_value, test_result = evaluate(data, predictions, features)\n",
    "\n",
    "    # Return the evaluation results\n",
    "    return chi_square, p_value, test_result\n"
   ]
  },
  {
   "cell_type": "code",
   "execution_count": 131,
   "metadata": {},
   "outputs": [
    {
     "name": "stdout",
     "output_type": "stream",
     "text": [
      "the shape of prediction is: (300000,)\n",
      "the type of prediction is: <class 'numpy.ndarray'>\n",
      "Contingency Table:\n",
      "predictions      0     1\n",
      "combination             \n",
      "A            59502  6048\n",
      "B            77642  3596\n",
      "C             7415   860\n",
      "D            50493  4544\n",
      "E            81068  3079\n",
      "F             5191   562\n",
      "(np.float64(3167.667912856034), np.float64(0.0), np.True_)\n"
     ]
    }
   ],
   "source": [
    "res = combinational_test(data_path, good_model_path, features)\n",
    "print(res)"
   ]
  },
  {
   "cell_type": "code",
   "execution_count": 132,
   "metadata": {},
   "outputs": [
    {
     "name": "stdout",
     "output_type": "stream",
     "text": [
      "the shape of prediction is: (300000,)\n",
      "the type of prediction is: <class 'numpy.ndarray'>\n",
      "Contingency Table:\n",
      "predictions      0      1\n",
      "combination              \n",
      "A            52209  13341\n",
      "B            64482  16756\n",
      "C             6692   1583\n",
      "D            55037      0\n",
      "E            84147      0\n",
      "F             5753      0\n",
      "(np.float64(33125.87837821453), np.float64(0.0), np.True_)\n"
     ]
    }
   ],
   "source": [
    "res = combinational_test(data_path, biased_model_path, features)\n",
    "print(res)"
   ]
  }
 ],
 "metadata": {
  "kernelspec": {
   "display_name": "dsait4015",
   "language": "python",
   "name": "python3"
  },
  "language_info": {
   "codemirror_mode": {
    "name": "ipython",
    "version": 3
   },
   "file_extension": ".py",
   "mimetype": "text/x-python",
   "name": "python",
   "nbconvert_exporter": "python",
   "pygments_lexer": "ipython3",
   "version": "3.12.7"
  }
 },
 "nbformat": 4,
 "nbformat_minor": 2
}
